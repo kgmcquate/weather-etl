{
 "cells": [
  {
   "cell_type": "code",
   "execution_count": 1,
   "id": "f2169bce-b4b0-4efe-a66e-9f2ca61937e8",
   "metadata": {},
   "outputs": [
    {
     "name": "stdout",
     "output_type": "stream",
     "text": [
      "Requirement already satisfied: sqlmodel in /opt/conda/lib/python3.11/site-packages (0.0.8)\n",
      "Requirement already satisfied: psycopg2-binary in /opt/conda/lib/python3.11/site-packages (2.9.6)\n",
      "Requirement already satisfied: boto3 in /opt/conda/lib/python3.11/site-packages (1.28.0)\n",
      "Requirement already satisfied: shapely in /opt/conda/lib/python3.11/site-packages (2.0.1)\n",
      "Requirement already satisfied: geopandas in /opt/conda/lib/python3.11/site-packages (0.13.2)\n",
      "Collecting simpledbf\n",
      "  Downloading simpledbf-0.2.6.tar.gz (17 kB)\n",
      "  Preparing metadata (setup.py): started\n",
      "  Preparing metadata (setup.py): finished with status 'done'\n",
      "Requirement already satisfied: pyarrow in /opt/conda/lib/python3.11/site-packages (12.0.1)\n",
      "Requirement already satisfied: SQLAlchemy<=1.4.41,>=1.4.17 in /opt/conda/lib/python3.11/site-packages (from sqlmodel) (1.4.41)\n",
      "Requirement already satisfied: pydantic<2.0.0,>=1.8.2 in /opt/conda/lib/python3.11/site-packages (from sqlmodel) (1.10.11)\n",
      "Requirement already satisfied: sqlalchemy2-stubs in /opt/conda/lib/python3.11/site-packages (from sqlmodel) (0.0.2a34)\n",
      "Requirement already satisfied: botocore<1.32.0,>=1.31.0 in /opt/conda/lib/python3.11/site-packages (from boto3) (1.31.0)\n",
      "Requirement already satisfied: jmespath<2.0.0,>=0.7.1 in /opt/conda/lib/python3.11/site-packages (from boto3) (1.0.1)\n",
      "Requirement already satisfied: s3transfer<0.7.0,>=0.6.0 in /opt/conda/lib/python3.11/site-packages (from boto3) (0.6.1)\n",
      "Requirement already satisfied: numpy>=1.14 in /opt/conda/lib/python3.11/site-packages (from shapely) (1.24.4)\n",
      "Requirement already satisfied: fiona>=1.8.19 in /opt/conda/lib/python3.11/site-packages (from geopandas) (1.9.4.post1)\n",
      "Requirement already satisfied: packaging in /opt/conda/lib/python3.11/site-packages (from geopandas) (23.1)\n",
      "Requirement already satisfied: pandas>=1.1.0 in /opt/conda/lib/python3.11/site-packages (from geopandas) (1.5.3)\n",
      "Requirement already satisfied: pyproj>=3.0.1 in /opt/conda/lib/python3.11/site-packages (from geopandas) (3.6.0)\n",
      "Requirement already satisfied: python-dateutil<3.0.0,>=2.1 in /opt/conda/lib/python3.11/site-packages (from botocore<1.32.0,>=1.31.0->boto3) (2.8.2)\n",
      "Requirement already satisfied: urllib3<1.27,>=1.25.4 in /opt/conda/lib/python3.11/site-packages (from botocore<1.32.0,>=1.31.0->boto3) (1.26.16)\n",
      "Requirement already satisfied: attrs>=19.2.0 in /opt/conda/lib/python3.11/site-packages (from fiona>=1.8.19->geopandas) (23.1.0)\n",
      "Requirement already satisfied: certifi in /opt/conda/lib/python3.11/site-packages (from fiona>=1.8.19->geopandas) (2023.5.7)\n",
      "Requirement already satisfied: click~=8.0 in /opt/conda/lib/python3.11/site-packages (from fiona>=1.8.19->geopandas) (8.1.3)\n",
      "Requirement already satisfied: click-plugins>=1.0 in /opt/conda/lib/python3.11/site-packages (from fiona>=1.8.19->geopandas) (1.1.1)\n",
      "Requirement already satisfied: cligj>=0.5 in /opt/conda/lib/python3.11/site-packages (from fiona>=1.8.19->geopandas) (0.7.2)\n",
      "Requirement already satisfied: six in /opt/conda/lib/python3.11/site-packages (from fiona>=1.8.19->geopandas) (1.16.0)\n",
      "Requirement already satisfied: pytz>=2020.1 in /opt/conda/lib/python3.11/site-packages (from pandas>=1.1.0->geopandas) (2023.3)\n",
      "Requirement already satisfied: typing-extensions>=4.2.0 in /opt/conda/lib/python3.11/site-packages (from pydantic<2.0.0,>=1.8.2->sqlmodel) (4.7.1)\n",
      "Requirement already satisfied: greenlet!=0.4.17 in /opt/conda/lib/python3.11/site-packages (from SQLAlchemy<=1.4.41,>=1.4.17->sqlmodel) (2.0.2)\n",
      "Building wheels for collected packages: simpledbf\n",
      "  Building wheel for simpledbf (setup.py): started\n",
      "  Building wheel for simpledbf (setup.py): finished with status 'done'\n",
      "  Created wheel for simpledbf: filename=simpledbf-0.2.6-py3-none-any.whl size=13785 sha256=b53f704965c66ca8aa9e5d98be612f22eda34401a79bd6c319720ae11c3b3a47\n",
      "  Stored in directory: /home/jovyan/.cache/pip/wheels/37/52/21/14be45b7c160488637e82d6a317f4379458bb4dd60be21d5fa\n",
      "Successfully built simpledbf\n",
      "Installing collected packages: simpledbf\n",
      "Successfully installed simpledbf-0.2.6\n"
     ]
    }
   ],
   "source": [
    "%%bash\n",
    "pip install sqlmodel psycopg2-binary boto3 shapely geopandas simpledbf pyarrow"
   ]
  },
  {
   "cell_type": "code",
   "execution_count": 1,
   "id": "62ea9c0e-3649-433c-8352-325b317535b3",
   "metadata": {},
   "outputs": [],
   "source": [
    "from pyspark.sql import SparkSession\n",
    "from pyspark.sql.types import *\n",
    "from pyspark.sql.functions import to_json, col\n",
    "from dataclasses import dataclass\n",
    "from shapely import Polygon, MultiPolygon\n",
    "from shapely.geometry import mapping\n",
    "import json\n",
    "import datetime\n",
    "\n",
    "import boto3\n",
    "import os\n",
    "import json\n",
    "# import us\n",
    "import zipfile\n",
    "import io\n",
    "import geopandas as gpd\n",
    "import pandas as pd\n",
    "# from simpledbf import Dbf5\n",
    "from typing import Optional\n",
    "\n",
    "from sqlmodel import SQLModel, Field\n",
    "from database import engine, sqlalchemy_engine\n",
    "\n",
    "from data_models import *\n",
    "\n",
    "\n",
    "\n",
    "def get_jdbc_options():\n",
    "    from database import db_endpoint, db_password, db_username\n",
    "    jdbc_url = f\"jdbc:postgresql://{db_endpoint}:5432/\"\n",
    "\n",
    "    # logger.debug(jdbc_url)\n",
    "\n",
    "    return {\n",
    "        \"url\": jdbc_url,\n",
    "        \"user\": db_username,\n",
    "        \"password\": db_password,\n",
    "        \"driver\": \"org.postgresql.Driver\",\n",
    "        \"stringtype\":\"unspecified\" # this allows you to write strings to jsonb cols\n",
    "    }\n",
    "\n",
    "spark = SparkSession.builder.master(\"local[1]\")\\\n",
    "    .config(\"spark.jars\", \"https://repo1.maven.org/maven2/org/postgresql/postgresql/42.6.0/postgresql-42.6.0.jar,s3://deployment-zone-117819748843/weather_etl/spark-shp-0.27-3.2-2.12.jar\")\\\n",
    "    .config(\"spark.sql.execution.arrow.pyspark.enabled\", \"false\")\\\n",
    "    .getOrCreate()"
   ]
  },
  {
   "cell_type": "code",
   "execution_count": 5,
   "id": "fce37700-b848-43a6-8ca7-e2a97e60c552",
   "metadata": {},
   "outputs": [],
   "source": [
    "\n",
    "@dataclass\n",
    "class LakeGeometry:\n",
    "    # permanent_: str = None \n",
    "    fdate: str = None\n",
    "    resolution: str = int\n",
    "    gnis_id: str = Field(primary_key=True)\n",
    "    gnis_name: str = None\n",
    "    areasqkm: float = None\n",
    "    elevation: float = None\n",
    "    reachcode: str = None\n",
    "    ftype: int = None\n",
    "    fcode: int = None\n",
    "    visibility: int = None\n",
    "    shape_length: float = None\n",
    "    shape_area: float = None\n",
    "    object_id: int = None\n",
    "    geometry: str = None # jsonb type in postgres #list[list[list[float]]]\n",
    "    boundary: list[list[float]] = None\n",
    "    bounds: list[float] = None\n",
    "    bounding_box: tuple[tuple[float]] = None\n",
    "    bounding_box_centroid: tuple[float] = None\n",
    "\n",
    "    def __post_init__(self):\n",
    "        polygon = MultiPolygon(\n",
    "                (Polygon(points) for points in self.geometry) #json.loads()\n",
    "            )\n",
    "        \n",
    "        boundary = mapping(polygon.boundary)['coordinates']\n",
    "        if len(boundary) != 1:\n",
    "            # raise Exception(f\"Boundary should only be 1 continuous polygon: {boundary[1:]} length: {len(boundary)}\")\n",
    "            self.boundary = []\n",
    "        else:\n",
    "            self.boundary = boundary[0]\n",
    "        self.bounds = polygon.bounds\n",
    "\n",
    "        min_lat, min_long, max_lat, max_long = self.bounds\n",
    "\n",
    "        self.bounding_box = ((min_lat, min_long), (min_lat, max_long), (max_lat, max_long), (max_lat, min_long))\n",
    "\n",
    "        self.centroid = list(polygon.centroid.coords)[0]\n",
    "\n",
    "        self.bounding_box_centroid = ( (min_lat + max_lat) / 2, (min_long + max_long) / 2 )  # Probably should do coordinate math with a globe projection\n",
    "        "
   ]
  },
  {
   "cell_type": "code",
   "execution_count": 3,
   "id": "3f51c573-58f2-45af-b8df-ca3022965779",
   "metadata": {},
   "outputs": [],
   "source": [
    "def get_spark_schema_from_dataclass(the_dataclass):\n",
    "    from pyspark.sql.types import _type_mappings\n",
    "    def get_pyspark_type(the_type):\n",
    "        pyspark_type = _type_mappings.get(the_type)\n",
    "        if pyspark_type is None:\n",
    "            pyspark_type = str(the_type)\\\n",
    "                            .replace(\"[\", \"<\")\\\n",
    "                            .replace(\"]\", \">\")\\\n",
    "                            .replace(\"list\", \"array\")\\\n",
    "                            .replace(\"tuple\", \"array\")\n",
    "        else:\n",
    "            pyspark_type = pyspark_type.typeName()\n",
    "        return pyspark_type\n",
    "\n",
    "    return \",\\n\".join([\n",
    "                    f\"`{name}` {get_pyspark_type(python_type)}\"\n",
    "                    for name, python_type \n",
    "                    in the_dataclass.__annotations__.items()\n",
    "                ])\n",
    "\n",
    "schema_from_pandas = StructType([StructField('permanent_', StringType(), True), \n",
    "                                 StructField('fdate', StringType(), True), \n",
    "                                 StructField('resolution', LongType(), True), \n",
    "                                 StructField('gnis_id', StringType(), True), \n",
    "                                 StructField('gnis_name', StringType(), True), \n",
    "                                 StructField('areasqkm', DoubleType(), True), \n",
    "                                 StructField('elevation', DoubleType(), True), \n",
    "                                 StructField('reachcode', StringType(), True), \n",
    "                                 StructField('ftype', LongType(), True), \n",
    "                                 StructField('fcode', LongType(), True), \n",
    "                                 StructField('visibility', LongType(), True), \n",
    "                                 StructField('SHAPE_Leng', DoubleType(), True), \n",
    "                                 StructField('SHAPE_Area', DoubleType(), True), \n",
    "                                 StructField('ObjectID', LongType(), True), \n",
    "                                 StructField('geometry', ArrayType(ArrayType(ArrayType(DoubleType()))), True)])"
   ]
  },
  {
   "cell_type": "code",
   "execution_count": 8,
   "id": "ee49333f-3b4e-4d08-9caa-0b189e7c22fe",
   "metadata": {},
   "outputs": [
    {
     "name": "stderr",
     "output_type": "stream",
     "text": [
      "/opt/conda/lib/python3.11/site-packages/geopandas/geodataframe.py:1537: UserWarning: Geometry column does not contain geometry.\n",
      "  warnings.warn(\"Geometry column does not contain geometry.\")\n",
      "/opt/conda/lib/python3.11/site-packages/geopandas/geodataframe.py:1538: SettingWithCopyWarning: \n",
      "A value is trying to be set on a copy of a slice from a DataFrame.\n",
      "Try using .loc[row_indexer,col_indexer] = value instead\n",
      "\n",
      "See the caveats in the documentation: https://pandas.pydata.org/pandas-docs/stable/user_guide/indexing.html#returning-a-view-versus-a-copy\n",
      "  super().__setitem__(key, value)\n"
     ]
    }
   ],
   "source": [
    "s3_bucket, s3_prefix = 'prd-tnm', 'StagedProducts/Hydrography/NHD/State/Shape/'\n",
    "local_data_dir = 'raw_data'\n",
    "# ls_resp = s3_client.list_objects_v2(Bucket=s3_bucket, Prefix=s3_prefix)\n",
    "\n",
    "states = ['Minnesota'] #us.states.STATES_AND_TERRITORIES\n",
    "\n",
    "\n",
    "for state in states:\n",
    "    filename = f\"NHD_H_{state}_State_Shape.zip\"\n",
    "    s3_key = s3_prefix + filename\n",
    "\n",
    "    local_filename = os.path.join(local_data_dir, filename) \n",
    "\n",
    "    # if not os.path.exists(local_filename):\n",
    "    #     s3.download_file(s3_bucket, s3_key, local_filename)\n",
    "\n",
    "    with open(local_filename, 'rb') as f:\n",
    "        zip_bytes = f.read()\n",
    "\n",
    "    waterbody_dbf_filename_in_zip = \"Shape/NHDWaterbody.dbf\"\n",
    "    local_waterbody_dbf_filename = os.path.join(\"raw_data\", f\"{state}_NHDWaterbody.dbf\")\n",
    "\n",
    "    waterbody_shp_filename_in_zip = \"Shape/NHDWaterbody.shp\"\n",
    "    local_waterbody_shp_filename = os.path.join(\"raw_data\", f\"{state}_NHDWaterbody.shp\")\n",
    "\n",
    "    waterbody_shx_filename_in_zip = \"Shape/NHDWaterbody.shx\"\n",
    "    local_waterbody_shx_filename = os.path.join(\"raw_data\", f\"{state}_NHDWaterbody.shx\")\n",
    "\n",
    "    \n",
    "    with zipfile.ZipFile(io.BytesIO(zip_bytes), 'r') as z: # \n",
    "        # with z.open(waterbody_dbf_filename_in_zip, 'r') as zip_f:\n",
    "        #     with open(local_waterbody_dbf_filename, 'wb') as f:\n",
    "        #         f.write(zip_f.read())\n",
    "\n",
    "        #     waterbodies: pd.DataFrame = Dbf5(local_waterbody_dbf_filename).to_dataframe()\n",
    "        #     lakes = waterbodies.dropna(subset=['gnis_name']) \n",
    "            # print(waterbodies['gnis_name'])\n",
    "        if not os.path.exists(local_waterbody_shp_filename):\n",
    "            with z.open(waterbody_shp_filename_in_zip, 'r') as zip_f:\n",
    "                with open(local_waterbody_shp_filename, 'wb') as f:\n",
    "                    f.write(zip_f.read())\n",
    "        \n",
    "        if not os.path.exists(local_waterbody_shx_filename):\n",
    "            with z.open(waterbody_shx_filename_in_zip, 'r') as zip_f:\n",
    "                with open(local_waterbody_shx_filename, 'wb') as f:\n",
    "                    f.write(zip_f.read())\n",
    "\n",
    "    def get_coords(polygon):\n",
    "        coords = mapping(polygon)['coordinates']\n",
    "        \n",
    "        if isinstance(coords, list):\n",
    "            coords = coords[0]\n",
    "        if isinstance(coords, tuple) and isinstance(coords[0], tuple) and isinstance(coords[0][0], tuple) and isinstance(coords[0][0][0], float):\n",
    "            return coords\n",
    "        else:\n",
    "            raise Exception(f\"bad type for {type(coords)} {coords}\")\n",
    "        \n",
    "        \n",
    "    shp = gpd.read_file(local_waterbody_shp_filename)\n",
    "\n",
    "    lakes = shp.dropna(subset=['gnis_name']) # Filter out water bodies with no name\n",
    "\n",
    "    lakes['geometry'] = lakes['geometry'].apply(get_coords)\n",
    "    \n",
    "    \n",
    "    df = (\n",
    "        spark.createDataFrame(lakes, schema=schema_from_pandas)\n",
    "        .selectExpr(\n",
    "            *['gnis_id', 'gnis_name', 'fdate', 'resolution', 'areasqkm', 'elevation', 'reachcode', 'ftype', 'fcode', 'visibility', \n",
    "              'SHAPE_Leng AS shape_length', 'SHAPE_Area AS shape_area', 'ObjectID as object_id', 'geometry'\n",
    "             ]\n",
    "        )\n",
    "        .rdd\n",
    "        .map(lambda row: LakeGeometry(**(row.asDict())) )\n",
    "        .toDF(schema=get_spark_schema_from_dataclass(LakeGeometry))\n",
    "        .withColumn(\"boundary\", to_json(col(\"boundary\")))\n",
    "        .withColumn(\"bounding_box\",  to_json(col(\"bounding_box\")))\n",
    "    )\n",
    "\n",
    "    # df.show()\n",
    "\n",
    "    # geo = df.take(1)[0]\n",
    "    # geo = LakeGeometry(**df.take(1)[0].asDict())\n",
    "    \n",
    "    # print(df.schema)\n",
    "    # df.selectExpr(\"geometry[0][0][0]\").show()\n",
    "\n",
    "    (\n",
    "        df\n",
    "        .write\n",
    "        .option(\"dbtable\", \"lake_geometry_test\")\n",
    "        .options(**get_jdbc_options())\n",
    "        .format(\"jdbc\")\n",
    "        .mode(\"append\")\n",
    "        .save()\n",
    "    )"
   ]
  },
  {
   "cell_type": "code",
   "execution_count": 176,
   "id": "a537530d-0b98-4124-bc7e-ca27b9012149",
   "metadata": {},
   "outputs": [
    {
     "data": {
      "text/plain": [
       "'string'"
      ]
     },
     "execution_count": 176,
     "metadata": {},
     "output_type": "execute_result"
    }
   ],
   "source": [
    "StringType.typeName()"
   ]
  },
  {
   "cell_type": "code",
   "execution_count": 166,
   "id": "df59629c-6d3c-44ce-a6fc-23845fc24b0b",
   "metadata": {},
   "outputs": [
    {
     "data": {
      "text/plain": [
       "{'array': pyspark.sql.types.ArrayType,\n",
       " 'map': pyspark.sql.types.MapType,\n",
       " 'struct': pyspark.sql.types.StructType}"
      ]
     },
     "execution_count": 166,
     "metadata": {},
     "output_type": "execute_result"
    }
   ],
   "source": [
    "dir(list[list[float]])\n",
    "from pyspark.sql.types import _parse_datatype_string\n",
    "from pyspark.sql.types import _infer_type, _type_mappings, _create_converter, _all_complex_types\n",
    "from pydoc import locate\n",
    "# _parse_datatype_string(str(list[list[float]]))\n",
    "import pyspark.sql.types\n",
    "dir(pyspark.sql.types)\n",
    "\n",
    "# _parse_datatype(locate('int'))\n",
    "# _type_mappings\n",
    "# _create_converter()\n",
    "_all_complex_types"
   ]
  },
  {
   "cell_type": "code",
   "execution_count": 44,
   "id": "0ec4d401-c0a8-4b1a-9616-b4d6cc7d4f8a",
   "metadata": {},
   "outputs": [],
   "source": [
    "from database import engine, sqlalchemy_engine\n",
    "\n",
    "geo = (\n",
    "    spark\n",
    "    .read\n",
    "    .option(\"dbtable\", \"lake_geometry\")\n",
    "    .options(**get_jdbc_options())\n",
    "    .format(\"jdbc\")\n",
    "    .load()\n",
    "    .limit(10)\n",
    "    .rdd\n",
    "    .map(lambda row: LakeGeometry(**row.asDict()))\n",
    ").take(1)[0]"
   ]
  },
  {
   "cell_type": "code",
   "execution_count": null,
   "id": "04bbed33-61df-42e5-9bd2-cbe4de0816bc",
   "metadata": {},
   "outputs": [],
   "source": []
  },
  {
   "cell_type": "code",
   "execution_count": null,
   "id": "0027ec39-481d-4d5e-86a4-8ee8b97d8bcd",
   "metadata": {},
   "outputs": [],
   "source": []
  },
  {
   "cell_type": "code",
   "execution_count": 45,
   "id": "89659202-7909-45f0-8969-2e9408de55c2",
   "metadata": {},
   "outputs": [
    {
     "data": {
      "text/plain": [
       "LakeGeometry(permanent_='23422571-D6B8-4D92-BA6E-21B5EB32A3F6', fdate='2011-06-20', resolution=2, gnis_id='-1', gnis_name='Upper Basin A', areasqkm=0.075, elevation=None, reachcode='09030003038461', ftype=390, fcode=39000, visibility=250000, shape_leng=0.018095882714808, shape_area=9.238174656e-06, objectid=1, geometry='[[[-91.59163399952195, 48.826645300252835, 0.0], [-91.59134519952238, 48.826740700252685, 0.0], [-91.59120419952256, 48.82690990025242, 0.0], [-91.59087399952313, 48.82702280025222, 0.0], [-91.59093579952298, 48.82724850025187, 0.0], [-91.59084779952315, 48.82747230025154, 0.0], [-91.59065689952342, 48.827479000251515, 0.0], [-91.59028989952401, 48.827447500251594, 0.0], [-91.59001739952441, 48.82744420025159, 0.0], [-91.589650399525, 48.827412700251614, 0.0], [-91.58938759952542, 48.82755340025142, 0.0], [-91.58919639952569, 48.82756910025137, 0.0], [-91.58920719952567, 48.827668200251196, 0.0], [-91.58928849952554, 48.82768710025118, 0.0], [-91.58947919952527, 48.82768950025121, 0.0], [-91.58998259952449, 48.82771360025117, 0.0], [-91.590308299524, 48.827762600251106, 0.0], [-91.59043839952375, 48.82798010025073, 0.0], [-91.59023409952408, 48.82797760025073, 0.0], [-91.59007139952433, 48.82794860025081, 0.0], [-91.58948669952525, 48.827905500250836, 0.0], [-91.58945949952528, 48.82790510025086, 0.0], [-91.58906619952592, 48.827837400250985, 0.0], [-91.58859229952662, 48.827732600251124, 0.0], [-91.5882537995272, 48.82765650025124, 0.0], [-91.58798039952757, 48.82768910025118, 0.0], [-91.58772079952797, 48.82771290025113, 0.0], [-91.58730029952864, 48.82764480025128, 0.0], [-91.58716389952883, 48.82765210025127, 0.0], [-91.58690609952924, 48.82761300025129, 0.0], [-91.58633649953015, 48.82751600025148, 0.0], [-91.58624119953026, 48.82751490025146, 0.0], [-91.58573969953108, 48.82741880025162, 0.0], [-91.58589589953084, 48.82719580025196, 0.0], [-91.58614229953042, 48.827153800252006, 0.0], [-91.58645709952998, 48.82710370025211, 0.0], [-91.58660749952975, 48.827087500252105, 0.0], [-91.58701729952907, 48.82704760025217, 0.0], [-91.58732579952863, 48.82673650025265, 0.0], [-91.58764039952814, 48.82669540025273, 0.0], [-91.58769559952805, 48.826669100252786, 0.0], [-91.58805529952747, 48.82647550025308, 0.0], [-91.58821069952722, 48.826279500253406, 0.0], [-91.58826139952714, 48.825929300253904, 0.0], [-91.58821119952722, 48.825775700254155, 0.0], [-91.58821729952723, 48.82555990025452, 0.0], [-91.58822489952723, 48.825290100254904, 0.0], [-91.58813459952734, 48.82510910025519, 0.0], [-91.58817719952731, 48.82504660025529, 0.0], [-91.588347499527, 48.82480580025566, 0.0], [-91.5916982995218, 48.825809400254116, 0.0], [-91.59155149952204, 48.82618540025351, 0.0], [-91.59165469952188, 48.8263936002532, 0.0], [-91.59163399952195, 48.826645300252835, 0.0]]]', boundary=((-91.59163399952195, 48.826645300252835, 0.0), (-91.59134519952238, 48.826740700252685, 0.0), (-91.59120419952256, 48.82690990025242, 0.0), (-91.59087399952313, 48.82702280025222, 0.0), (-91.59093579952298, 48.82724850025187, 0.0), (-91.59084779952315, 48.82747230025154, 0.0), (-91.59065689952342, 48.827479000251515, 0.0), (-91.59028989952401, 48.827447500251594, 0.0), (-91.59001739952441, 48.82744420025159, 0.0), (-91.589650399525, 48.827412700251614, 0.0), (-91.58938759952542, 48.82755340025142, 0.0), (-91.58919639952569, 48.82756910025137, 0.0), (-91.58920719952567, 48.827668200251196, 0.0), (-91.58928849952554, 48.82768710025118, 0.0), (-91.58947919952527, 48.82768950025121, 0.0), (-91.58998259952449, 48.82771360025117, 0.0), (-91.590308299524, 48.827762600251106, 0.0), (-91.59043839952375, 48.82798010025073, 0.0), (-91.59023409952408, 48.82797760025073, 0.0), (-91.59007139952433, 48.82794860025081, 0.0), (-91.58948669952525, 48.827905500250836, 0.0), (-91.58945949952528, 48.82790510025086, 0.0), (-91.58906619952592, 48.827837400250985, 0.0), (-91.58859229952662, 48.827732600251124, 0.0), (-91.5882537995272, 48.82765650025124, 0.0), (-91.58798039952757, 48.82768910025118, 0.0), (-91.58772079952797, 48.82771290025113, 0.0), (-91.58730029952864, 48.82764480025128, 0.0), (-91.58716389952883, 48.82765210025127, 0.0), (-91.58690609952924, 48.82761300025129, 0.0), (-91.58633649953015, 48.82751600025148, 0.0), (-91.58624119953026, 48.82751490025146, 0.0), (-91.58573969953108, 48.82741880025162, 0.0), (-91.58589589953084, 48.82719580025196, 0.0), (-91.58614229953042, 48.827153800252006, 0.0), (-91.58645709952998, 48.82710370025211, 0.0), (-91.58660749952975, 48.827087500252105, 0.0), (-91.58701729952907, 48.82704760025217, 0.0), (-91.58732579952863, 48.82673650025265, 0.0), (-91.58764039952814, 48.82669540025273, 0.0), (-91.58769559952805, 48.826669100252786, 0.0), (-91.58805529952747, 48.82647550025308, 0.0), (-91.58821069952722, 48.826279500253406, 0.0), (-91.58826139952714, 48.825929300253904, 0.0), (-91.58821119952722, 48.825775700254155, 0.0), (-91.58821729952723, 48.82555990025452, 0.0), (-91.58822489952723, 48.825290100254904, 0.0), (-91.58813459952734, 48.82510910025519, 0.0), (-91.58817719952731, 48.82504660025529, 0.0), (-91.588347499527, 48.82480580025566, 0.0), (-91.5916982995218, 48.825809400254116, 0.0), (-91.59155149952204, 48.82618540025351, 0.0), (-91.59165469952188, 48.8263936002532, 0.0), (-91.59163399952195, 48.826645300252835, 0.0)), bounds=(-91.5916982995218, 48.82480580025566, -91.58573969953108, 48.82798010025073))"
      ]
     },
     "execution_count": 45,
     "metadata": {},
     "output_type": "execute_result"
    }
   ],
   "source": [
    "geo"
   ]
  },
  {
   "cell_type": "code",
   "execution_count": 60,
   "id": "2bac54bd-33b9-43c7-bf2e-e870e4adec97",
   "metadata": {},
   "outputs": [
    {
     "data": {
      "text/plain": [
       "((-91.5916982995218, 48.82480580025566),\n",
       " (-91.5916982995218, 48.82798010025073),\n",
       " (-91.58573969953108, 48.82798010025073),\n",
       " (-91.58573969953108, 48.82480580025566))"
      ]
     },
     "execution_count": 60,
     "metadata": {},
     "output_type": "execute_result"
    }
   ],
   "source": [
    "min_lat, min_long, max_lat, max_long = geo.bounds\n",
    "\n",
    "bounding_box = ((min_lat, min_long), (min_lat, max_long), (max_lat, max_long), (max_lat, min_long))\n",
    "bounding_box"
   ]
  },
  {
   "cell_type": "code",
   "execution_count": 78,
   "id": "0cd2596c-4471-4efb-9107-11e7752187bb",
   "metadata": {},
   "outputs": [
    {
     "data": {
      "text/plain": [
       "(-91.58923008455515, 48.82655216677615)"
      ]
     },
     "execution_count": 78,
     "metadata": {},
     "output_type": "execute_result"
    }
   ],
   "source": [
    "polygon = MultiPolygon(\n",
    "                (Polygon(points) for points in json.loads(geo.geometry))\n",
    "            )\n",
    "\n",
    "dir(\n",
    "    list(polygon.centroid.coords)\n",
    ")\n",
    "\n",
    "list(polygon.centroid.coords)[0]"
   ]
  }
 ],
 "metadata": {
  "kernelspec": {
   "display_name": "Python 3 (ipykernel)",
   "language": "python",
   "name": "python3"
  },
  "language_info": {
   "codemirror_mode": {
    "name": "ipython",
    "version": 3
   },
   "file_extension": ".py",
   "mimetype": "text/x-python",
   "name": "python",
   "nbconvert_exporter": "python",
   "pygments_lexer": "ipython3",
   "version": "3.11.4"
  }
 },
 "nbformat": 4,
 "nbformat_minor": 5
}
